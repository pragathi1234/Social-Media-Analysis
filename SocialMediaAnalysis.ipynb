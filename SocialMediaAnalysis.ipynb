{
 "cells": [
  {
   "cell_type": "code",
   "execution_count": 1,
   "id": "056478b0",
   "metadata": {},
   "outputs": [],
   "source": [
    "# Importing libraries\n",
    "\n",
    "import pandas as pd\n",
    "import numpy as np\n",
    "import matplotlib.pyplot as plt\n",
    "import seaborn as sns\n",
    "import warnings\n",
    "warnings.filterwarnings(\"ignore\")"
   ]
  },
  {
   "cell_type": "code",
   "execution_count": 2,
   "id": "7fb4cfed",
   "metadata": {},
   "outputs": [],
   "source": [
    "# Reading dataset\n",
    "\n",
    "df=pd.read_excel(\"social_data.xlsx\")"
   ]
  },
  {
   "cell_type": "code",
   "execution_count": 3,
   "id": "33b5e1a3",
   "metadata": {},
   "outputs": [
    {
     "name": "stdout",
     "output_type": "stream",
     "text": [
      "<class 'pandas.core.frame.DataFrame'>\n",
      "RangeIndex: 3479 entries, 0 to 3478\n",
      "Data columns (total 7 columns):\n",
      " #   Column             Non-Null Count  Dtype         \n",
      "---  ------             --------------  -----         \n",
      " 0   Published Date     3479 non-null   datetime64[ns]\n",
      " 1   Account            3479 non-null   object        \n",
      " 2   Account Type       3479 non-null   object        \n",
      " 3   Campaign Name      3479 non-null   object        \n",
      " 4   Total Impressions  3479 non-null   float64       \n",
      " 5   Total Engagements  3479 non-null   float64       \n",
      " 6   Media Type         3479 non-null   object        \n",
      "dtypes: datetime64[ns](1), float64(2), object(4)\n",
      "memory usage: 190.4+ KB\n"
     ]
    }
   ],
   "source": [
    "#Retrieving information of the above dataset\n",
    "\n",
    "df.info()"
   ]
  },
  {
   "cell_type": "markdown",
   "id": "b17a47f7",
   "metadata": {},
   "source": [
    "- <b>Published Date:</b> This column likely represents the date and time when the campaign content was published or released.\n",
    "- <b>Account:</b> This column likely represents the account associated with the campaign. It could be the name of a social media account, company, or individual running the campaign.\n",
    "- <b>Account Type:</b> This column likely categorizes the type or category of the account. It could indicate  platform or industry.\n",
    "- <b>Campaign Name:</b> This column likely contains the name or identifier of the marketing campaign. It helps differentiate between different campaigns or promotional activities.\n",
    "- <b>Total Impressions:</b> This column likely represents the total number of times the campaign content was displayed or seen by users. Impressions typically refer to the number of times an advertisement or content appears on a user's screen.\n",
    "- <b>Total Engagements:</b> This column likely represents the total number of interactions or engagements with the campaign content. Engagements could include likes, comments, shares, clicks, or any other form of user interaction depending on the platform or medium.\n",
    "- <b>Media Type:</b> This column likely indicates the type of media used in the campaign, such as text, image, video, or a combination thereof. It helps identify the format or medium of the promotional content."
   ]
  },
  {
   "cell_type": "code",
   "execution_count": 4,
   "id": "635d0093",
   "metadata": {},
   "outputs": [
    {
     "data": {
      "text/html": [
       "<div>\n",
       "<style scoped>\n",
       "    .dataframe tbody tr th:only-of-type {\n",
       "        vertical-align: middle;\n",
       "    }\n",
       "\n",
       "    .dataframe tbody tr th {\n",
       "        vertical-align: top;\n",
       "    }\n",
       "\n",
       "    .dataframe thead th {\n",
       "        text-align: right;\n",
       "    }\n",
       "</style>\n",
       "<table border=\"1\" class=\"dataframe\">\n",
       "  <thead>\n",
       "    <tr style=\"text-align: right;\">\n",
       "      <th></th>\n",
       "      <th>Published Date</th>\n",
       "      <th>Account</th>\n",
       "      <th>Account Type</th>\n",
       "      <th>Campaign Name</th>\n",
       "      <th>Total Impressions</th>\n",
       "      <th>Total Engagements</th>\n",
       "      <th>Media Type</th>\n",
       "    </tr>\n",
       "  </thead>\n",
       "  <tbody>\n",
       "    <tr>\n",
       "      <th>0</th>\n",
       "      <td>2023-03-31 19:55:43.192</td>\n",
       "      <td>CSGO</td>\n",
       "      <td>TWITTER</td>\n",
       "      <td>N/A</td>\n",
       "      <td>0.0</td>\n",
       "      <td>0.0</td>\n",
       "      <td>Text</td>\n",
       "    </tr>\n",
       "    <tr>\n",
       "      <th>1</th>\n",
       "      <td>2023-03-31 19:49:35.243</td>\n",
       "      <td>CSGO</td>\n",
       "      <td>TWITTER</td>\n",
       "      <td>N/A</td>\n",
       "      <td>0.0</td>\n",
       "      <td>0.0</td>\n",
       "      <td>Text</td>\n",
       "    </tr>\n",
       "    <tr>\n",
       "      <th>2</th>\n",
       "      <td>2023-03-31 19:49:33.535</td>\n",
       "      <td>CSGO</td>\n",
       "      <td>TWITTER</td>\n",
       "      <td>N/A</td>\n",
       "      <td>0.0</td>\n",
       "      <td>0.0</td>\n",
       "      <td>Text</td>\n",
       "    </tr>\n",
       "    <tr>\n",
       "      <th>3</th>\n",
       "      <td>2023-03-31 19:49:31.583</td>\n",
       "      <td>CSGO</td>\n",
       "      <td>TWITTER</td>\n",
       "      <td>N/A</td>\n",
       "      <td>0.0</td>\n",
       "      <td>0.0</td>\n",
       "      <td>Text</td>\n",
       "    </tr>\n",
       "    <tr>\n",
       "      <th>4</th>\n",
       "      <td>2023-03-31 19:43:42.590</td>\n",
       "      <td>CSGO</td>\n",
       "      <td>TWITTER</td>\n",
       "      <td>Community Engagement</td>\n",
       "      <td>9517.0</td>\n",
       "      <td>1215.0</td>\n",
       "      <td>Video</td>\n",
       "    </tr>\n",
       "  </tbody>\n",
       "</table>\n",
       "</div>"
      ],
      "text/plain": [
       "           Published Date Account Account Type          Campaign Name  \\\n",
       "0 2023-03-31 19:55:43.192    CSGO      TWITTER                   N/A    \n",
       "1 2023-03-31 19:49:35.243    CSGO      TWITTER                   N/A    \n",
       "2 2023-03-31 19:49:33.535    CSGO      TWITTER                   N/A    \n",
       "3 2023-03-31 19:49:31.583    CSGO      TWITTER                   N/A    \n",
       "4 2023-03-31 19:43:42.590    CSGO      TWITTER  Community Engagement    \n",
       "\n",
       "   Total Impressions  Total Engagements Media Type  \n",
       "0                0.0                0.0       Text  \n",
       "1                0.0                0.0       Text  \n",
       "2                0.0                0.0       Text  \n",
       "3                0.0                0.0       Text  \n",
       "4             9517.0             1215.0      Video  "
      ]
     },
     "execution_count": 4,
     "metadata": {},
     "output_type": "execute_result"
    }
   ],
   "source": [
    "# Displaying top 5 rows of data\n",
    "\n",
    "df.head(5)"
   ]
  },
  {
   "cell_type": "markdown",
   "id": "86ae01b4",
   "metadata": {},
   "source": [
    "### Check the data types"
   ]
  },
  {
   "cell_type": "code",
   "execution_count": 5,
   "id": "24eae0fd",
   "metadata": {},
   "outputs": [
    {
     "data": {
      "text/plain": [
       "Published Date       datetime64[ns]\n",
       "Account                      object\n",
       "Account Type                 object\n",
       "Campaign Name                object\n",
       "Total Impressions           float64\n",
       "Total Engagements           float64\n",
       "Media Type                   object\n",
       "dtype: object"
      ]
     },
     "execution_count": 5,
     "metadata": {},
     "output_type": "execute_result"
    }
   ],
   "source": [
    "df.dtypes"
   ]
  },
  {
   "cell_type": "code",
   "execution_count": 6,
   "id": "6ee73353",
   "metadata": {},
   "outputs": [
    {
     "name": "stdout",
     "output_type": "stream",
     "text": [
      "Number of rows  3479\n",
      "Number of Columns  7\n"
     ]
    }
   ],
   "source": [
    "print(\"Number of rows \",df.shape[0])\n",
    "print(\"Number of Columns \",df.shape[1])"
   ]
  },
  {
   "cell_type": "markdown",
   "id": "1990ffc2",
   "metadata": {},
   "source": [
    "### Converting Total Impressions, Engagements into int variables"
   ]
  },
  {
   "cell_type": "code",
   "execution_count": 7,
   "id": "8f606185",
   "metadata": {},
   "outputs": [],
   "source": [
    "df['Total Impressions'] = df['Total Impressions'].astype(int)\n",
    "df['Total Engagements'] = df['Total Engagements'].astype(int)"
   ]
  },
  {
   "cell_type": "markdown",
   "id": "56a01546",
   "metadata": {},
   "source": [
    "### Descriptive statistics of a Dataframe"
   ]
  },
  {
   "cell_type": "code",
   "execution_count": 8,
   "id": "997300af",
   "metadata": {},
   "outputs": [
    {
     "data": {
      "text/html": [
       "<div>\n",
       "<style scoped>\n",
       "    .dataframe tbody tr th:only-of-type {\n",
       "        vertical-align: middle;\n",
       "    }\n",
       "\n",
       "    .dataframe tbody tr th {\n",
       "        vertical-align: top;\n",
       "    }\n",
       "\n",
       "    .dataframe thead th {\n",
       "        text-align: right;\n",
       "    }\n",
       "</style>\n",
       "<table border=\"1\" class=\"dataframe\">\n",
       "  <thead>\n",
       "    <tr style=\"text-align: right;\">\n",
       "      <th></th>\n",
       "      <th>Total Impressions</th>\n",
       "      <th>Total Engagements</th>\n",
       "    </tr>\n",
       "  </thead>\n",
       "  <tbody>\n",
       "    <tr>\n",
       "      <th>count</th>\n",
       "      <td>3479.000000</td>\n",
       "      <td>3479.000000</td>\n",
       "    </tr>\n",
       "    <tr>\n",
       "      <th>mean</th>\n",
       "      <td>10972.453579</td>\n",
       "      <td>947.390629</td>\n",
       "    </tr>\n",
       "    <tr>\n",
       "      <th>std</th>\n",
       "      <td>29577.108063</td>\n",
       "      <td>3468.628038</td>\n",
       "    </tr>\n",
       "    <tr>\n",
       "      <th>min</th>\n",
       "      <td>0.000000</td>\n",
       "      <td>0.000000</td>\n",
       "    </tr>\n",
       "    <tr>\n",
       "      <th>25%</th>\n",
       "      <td>167.000000</td>\n",
       "      <td>0.000000</td>\n",
       "    </tr>\n",
       "    <tr>\n",
       "      <th>50%</th>\n",
       "      <td>1884.000000</td>\n",
       "      <td>39.000000</td>\n",
       "    </tr>\n",
       "    <tr>\n",
       "      <th>75%</th>\n",
       "      <td>12467.000000</td>\n",
       "      <td>276.500000</td>\n",
       "    </tr>\n",
       "    <tr>\n",
       "      <th>max</th>\n",
       "      <td>753227.000000</td>\n",
       "      <td>95062.000000</td>\n",
       "    </tr>\n",
       "  </tbody>\n",
       "</table>\n",
       "</div>"
      ],
      "text/plain": [
       "       Total Impressions  Total Engagements\n",
       "count        3479.000000        3479.000000\n",
       "mean        10972.453579         947.390629\n",
       "std         29577.108063        3468.628038\n",
       "min             0.000000           0.000000\n",
       "25%           167.000000           0.000000\n",
       "50%          1884.000000          39.000000\n",
       "75%         12467.000000         276.500000\n",
       "max        753227.000000       95062.000000"
      ]
     },
     "execution_count": 8,
     "metadata": {},
     "output_type": "execute_result"
    }
   ],
   "source": [
    "df.describe()"
   ]
  },
  {
   "cell_type": "markdown",
   "id": "f79cfec4",
   "metadata": {},
   "source": [
    "- The data shows a wide range of impression counts, with the minimum being 0 and the maximum being 753,227. This suggests that some campaigns had a significant reach, while others had fewer impressions or may not have been seen at all.  \n",
    "- The average number of impressions across all campaigns is approximately 10,972.45. This value can give you a sense of the typical reach of your marketing campaigns.  \n",
    "- The standard deviation of 29,577.11 indicates a relatively high variation in the impression counts. This suggests that some campaigns may have had a significantly higher or lower number of impressions compared to the average. It's worth exploring the factors contributing to this variability to identify successful and less successful campaigns.  \n",
    "- The provided statistics for \"Total Engagements\" indicate that the minimum number of engagements is 0, while the maximum is 95,062. This highlights the variability in the level of user interaction with the campaigns.  \n",
    "- By comparing the average number of engagements (947.39) to the average impressions (10,972.45), we can calculate an average engagement rate. This can help assess the effectiveness of campaigns in terms of user engagement.  "
   ]
  },
  {
   "cell_type": "markdown",
   "id": "01c1a2ad",
   "metadata": {},
   "source": [
    "### Check for missing values"
   ]
  },
  {
   "cell_type": "code",
   "execution_count": 9,
   "id": "071c8d79",
   "metadata": {},
   "outputs": [
    {
     "data": {
      "text/plain": [
       "Published Date       0\n",
       "Account              0\n",
       "Account Type         0\n",
       "Campaign Name        0\n",
       "Total Impressions    0\n",
       "Total Engagements    0\n",
       "Media Type           0\n",
       "dtype: int64"
      ]
     },
     "execution_count": 9,
     "metadata": {},
     "output_type": "execute_result"
    }
   ],
   "source": [
    "#Finding missing values for each columns\n",
    "\n",
    "df.isnull().sum()"
   ]
  },
  {
   "cell_type": "markdown",
   "id": "465efc60",
   "metadata": {},
   "source": [
    "- The dataset does not contain any missing values, and we will now determine if there are any outliers present in the dataset."
   ]
  },
  {
   "cell_type": "markdown",
   "id": "ed4603df",
   "metadata": {},
   "source": [
    "### Exploratory Data Analysis"
   ]
  },
  {
   "cell_type": "code",
   "execution_count": 10,
   "id": "0c0ce6a0",
   "metadata": {},
   "outputs": [
    {
     "data": {
      "text/plain": [
       "2023-03-30 09:00:21.000    6\n",
       "2023-02-09 11:00:29.000    5\n",
       "2023-02-21 11:22:52.000    5\n",
       "2023-03-10 16:45:55.000    4\n",
       "2023-01-19 06:02:22.000    4\n",
       "                          ..\n",
       "2023-03-01 09:00:01.846    1\n",
       "2023-03-01 09:00:01.611    1\n",
       "2023-03-01 09:00:00.699    1\n",
       "2023-03-01 07:26:47.528    1\n",
       "2023-01-01 14:59:04.000    1\n",
       "Name: Published Date, Length: 3407, dtype: int64"
      ]
     },
     "execution_count": 10,
     "metadata": {},
     "output_type": "execute_result"
    }
   ],
   "source": [
    "df['Published Date'].value_counts()"
   ]
  },
  {
   "cell_type": "code",
   "execution_count": 13,
   "id": "0cb183ec",
   "metadata": {},
   "outputs": [
    {
     "data": {
      "text/plain": [
       "3478   2023-01-01 14:59:04.000\n",
       "3477   2023-01-03 10:34:03.438\n",
       "3476   2023-01-03 10:34:38.631\n",
       "3475   2023-01-03 10:34:55.487\n",
       "3474   2023-01-03 10:35:12.652\n",
       "                 ...          \n",
       "4      2023-03-31 19:43:42.590\n",
       "3      2023-03-31 19:49:31.583\n",
       "2      2023-03-31 19:49:33.535\n",
       "1      2023-03-31 19:49:35.243\n",
       "0      2023-03-31 19:55:43.192\n",
       "Name: Published Date, Length: 3479, dtype: datetime64[ns]"
      ]
     },
     "execution_count": 13,
     "metadata": {},
     "output_type": "execute_result"
    }
   ],
   "source": [
    "df['Published Date'].sort_values()"
   ]
  },
  {
   "cell_type": "markdown",
   "id": "ba5a7ce0",
   "metadata": {},
   "source": [
    "- This dataset provides information specifically about the initial quarter of the year 2023."
   ]
  },
  {
   "cell_type": "markdown",
   "id": "fbd06c85",
   "metadata": {},
   "source": [
    "### Check for outliers"
   ]
  },
  {
   "cell_type": "code",
   "execution_count": 47,
   "id": "fa0b9a43",
   "metadata": {},
   "outputs": [
    {
     "data": {
      "image/png": "[encoded data removed]",
      "text/plain": [
       "<Figure size 576x360 with 1 Axes>"
      ]
     },
     "metadata": {
      "needs_background": "light"
     },
     "output_type": "display_data"
    }
   ],
   "source": [
    "# Distribution of the Total Impressions before removing outliers\n",
    "\n",
    "plt.figure(figsize=(8, 5))\n",
    "plt.hist(df['Total Impressions'], bins=30)\n",
    "plt.xlabel('Total Impressions')\n",
    "plt.ylabel('Count')\n",
    "plt.title('Distribution of Total Impressions')\n",
    "plt.show()"
   ]
  },
  {
   "cell_type": "code",
   "execution_count": 15,
   "id": "94b28a4b",
   "metadata": {},
   "outputs": [],
   "source": [
    "# Calculate the IQR\n",
    "Q1 = df['Total Impressions'].quantile(0.25)\n",
    "Q3 = df['Total Impressions'].quantile(0.75)\n",
    "IQR = Q3 - Q1\n",
    "\n",
    "# Define the lower and upper bounds for outliers removal\n",
    "lower_bound = Q1 - 1.5 * IQR\n",
    "upper_bound = Q3 + 1.5 * IQR\n",
    "\n",
    "# Remove the outliers from the Amount column\n",
    "df = df[(df['Total Impressions'] >= lower_bound) & (df['Total Impressions'] <= upper_bound)]"
   ]
  },
  {
   "cell_type": "markdown",
   "id": "80ca4a74",
   "metadata": {},
   "source": [
    "- Calculated the IQR of the Total Impressions column. I have defined the lower and upper bounds for outliers removal using the IQR method. Finally, I have removed the outliers from the Total Impressions column by filtering the dataframe using the lower and upper bounds."
   ]
  },
  {
   "cell_type": "code",
   "execution_count": 49,
   "id": "6d61b3fc",
   "metadata": {},
   "outputs": [
    {
     "data": {
      "image/png": "[encoded data removed]",
      "text/plain": [
       "<Figure size 576x360 with 1 Axes>"
      ]
     },
     "metadata": {
      "needs_background": "light"
     },
     "output_type": "display_data"
    }
   ],
   "source": [
    "# Distribution of the Total Impressions after removing outliers\n",
    "\n",
    "plt.figure(figsize=(8, 5))\n",
    "sns.histplot(df['Total Impressions'], kde=True)\n",
    "plt.show()"
   ]
  },
  {
   "cell_type": "markdown",
   "id": "03054e0e",
   "metadata": {},
   "source": [
    "- After applying the IQR (Interquartile Range) method to eliminate outliers, the distribution graph of the dataset significantly improved."
   ]
  },
  {
   "cell_type": "code",
   "execution_count": 53,
   "id": "4c5faee8",
   "metadata": {},
   "outputs": [
    {
     "data": {
      "image/png": "[encoded data removed]",
      "text/plain": [
       "<Figure size 576x360 with 1 Axes>"
      ]
     },
     "metadata": {
      "needs_background": "light"
     },
     "output_type": "display_data"
    }
   ],
   "source": [
    "# Distribution of the Total Engagements column before removing outliers\n",
    "\n",
    "plt.figure(figsize=(8, 5))\n",
    "plt.hist(df['Total Engagements'], bins=30)\n",
    "plt.title('Distribution of Total Engagements')\n",
    "plt.xlabel('Total Engagements')\n",
    "plt.ylabel('Count')\n",
    "plt.show()"
   ]
  },
  {
   "cell_type": "code",
   "execution_count": 51,
   "id": "57dc9966",
   "metadata": {},
   "outputs": [],
   "source": [
    "# Calculate the IQR\n",
    "Q1 = df['Total Engagements'].quantile(0.25)\n",
    "Q3 = df['Total Engagements'].quantile(0.75)\n",
    "IQR = Q3 - Q1\n",
    "\n",
    "# Define the lower and upper bounds for outliers removal\n",
    "lower_bound = Q1 - 1.5 * IQR\n",
    "upper_bound = Q3 + 1.5 * IQR\n",
    "\n",
    "# Remove the outliers from the Amount column\n",
    "df = df[(df['Total Engagements'] >= lower_bound) & (df['Total Engagements'] <= upper_bound)]"
   ]
  },
  {
   "cell_type": "markdown",
   "id": "a132a238",
   "metadata": {},
   "source": [
    "- Calculated the IQR of the Total Engagements column. I have defined the lower and upper bounds for outliers removal using the IQR method. Finally, I have removed the outliers from the Total Engagements column by filtering the dataframe using the lower and upper bounds."
   ]
  },
  {
   "cell_type": "code",
   "execution_count": 52,
   "id": "616c4926",
   "metadata": {},
   "outputs": [
    {
     "data": {
      "image/png": "[encoded data removed]",
      "text/plain": [
       "<Figure size 576x360 with 1 Axes>"
      ]
     },
     "metadata": {
      "needs_background": "light"
     },
     "output_type": "display_data"
    }
   ],
   "source": [
    "# Distribution of the Total Engagements column after removing outliers\n",
    "\n",
    "plt.figure(figsize=(8, 5))\n",
    "sns.histplot(df['Total Engagements'], kde=True)\n",
    "plt.show()"
   ]
  },
  {
   "cell_type": "markdown",
   "id": "e87afd1b",
   "metadata": {},
   "source": [
    "- After applying the IQR (Interquartile Range) method to eliminate outliers, the distribution graph of the dataset significantly improved."
   ]
  },
  {
   "cell_type": "markdown",
   "id": "3fe06844",
   "metadata": {},
   "source": [
    "### Analysis of Account column"
   ]
  },
  {
   "cell_type": "code",
   "execution_count": 21,
   "id": "b12076e4",
   "metadata": {},
   "outputs": [
    {
     "data": {
      "text/plain": [
       "General             1641\n",
       "DOTA2                732\n",
       "CSGO                 232\n",
       "Valorant              59\n",
       "Content Creators      53\n",
       "General               22\n",
       "Name: Account, dtype: int64"
      ]
     },
     "execution_count": 21,
     "metadata": {},
     "output_type": "execute_result"
    }
   ],
   "source": [
    "df['Account'].value_counts()"
   ]
  },
  {
   "cell_type": "markdown",
   "id": "4dfea96e",
   "metadata": {},
   "source": [
    "-  It could suggest that the data might not be well-organized or there could be some duplication or inconsistency in the category names."
   ]
  },
  {
   "cell_type": "code",
   "execution_count": 22,
   "id": "7db250d6",
   "metadata": {},
   "outputs": [],
   "source": [
    "# Removing extra spaces in Account column\n",
    "\n",
    "df['Account'] = df['Account'].str.strip()"
   ]
  },
  {
   "cell_type": "code",
   "execution_count": 23,
   "id": "bc507617",
   "metadata": {},
   "outputs": [
    {
     "data": {
      "text/plain": [
       "General             1663\n",
       "DOTA2                732\n",
       "CSGO                 232\n",
       "Valorant              59\n",
       "Content Creators      53\n",
       "Name: Account, dtype: int64"
      ]
     },
     "execution_count": 23,
     "metadata": {},
     "output_type": "execute_result"
    }
   ],
   "source": [
    "df['Account'].value_counts()"
   ]
  },
  {
   "cell_type": "markdown",
   "id": "18fed534",
   "metadata": {},
   "source": [
    "- \"General\" category is the most prevalent or has the highest count in the \"Account\" column.\n",
    "- It indicates that DOTA2 is a popular account category, but it has a lower count compared to the \"General\" category.\n",
    "- CSG0 have a lower count than both \"General\" and DOTA 2 accounts.\n",
    "- Some accounts specifically categorized as \"Content Creators,\" indicating the presence of individuals or groups creating content related to gaming or other topics."
   ]
  },
  {
   "cell_type": "code",
   "execution_count": 55,
   "id": "18299d91",
   "metadata": {},
   "outputs": [
    {
     "data": {
      "image/png": "[encoded data removed]",
      "text/plain": [
       "<Figure size 576x360 with 1 Axes>"
      ]
     },
     "metadata": {
      "needs_background": "light"
     },
     "output_type": "display_data"
    }
   ],
   "source": [
    "# Distribution of accounts\n",
    "\n",
    "Accounts = df['Account'].value_counts().index\n",
    "counts = df['Account'].value_counts().values\n",
    "          \n",
    "plt.figure(figsize=(8, 5))\n",
    "plt.bar(Accounts, counts)\n",
    "plt.title('Number of Companies by Industry Category')\n",
    "plt.xlabel('Industry Category')\n",
    "plt.ylabel('Number of Companies')\n",
    "plt.xticks(rotation=90)\n",
    "plt.show()"
   ]
  },
  {
   "cell_type": "markdown",
   "id": "5f26b705",
   "metadata": {},
   "source": [
    "### Analysis of Account Type column"
   ]
  },
  {
   "cell_type": "code",
   "execution_count": 25,
   "id": "758189bf",
   "metadata": {},
   "outputs": [
    {
     "data": {
      "text/plain": [
       "TWITTER             1640\n",
       "INSTAGRAM            548\n",
       "YOUTUBE              217\n",
       "FBPAGE               202\n",
       "TIKTOK_BUSINESS      110\n",
       "LINKEDIN_COMPANY      22\n",
       "Name: Account Type, dtype: int64"
      ]
     },
     "execution_count": 25,
     "metadata": {},
     "output_type": "execute_result"
    }
   ],
   "source": [
    "df['Account Type'].value_counts()"
   ]
  },
  {
   "cell_type": "markdown",
   "id": "d1639eec",
   "metadata": {},
   "source": [
    "- Twitter is the most popular social media platform.\n",
    "- Instagram is the second most popular platform.\n",
    "- YouTube has a considerable following but is behind both Twitter and Instagram.\n",
    "- Facebook's official page has a similar number of followers as YouTube.\n",
    "- TikTok's business account has a relatively smaller number of advertisement platforms compared to the other platforms.\n",
    "- LinkedIn's official company page has the fewest among all the platforms."
   ]
  },
  {
   "cell_type": "markdown",
   "id": "f8e5bd3a",
   "metadata": {},
   "source": [
    "### Analysis of Campaign Name column"
   ]
  },
  {
   "cell_type": "code",
   "execution_count": 26,
   "id": "e0e926c8",
   "metadata": {},
   "outputs": [
    {
     "data": {
      "text/plain": [
       "N/A                      1321\n",
       "Community Engagement      929\n",
       "Evil Exhibited            343\n",
       "Evergreen                 146\n",
       "Name: Campaign Name, dtype: int64"
      ]
     },
     "execution_count": 26,
     "metadata": {},
     "output_type": "execute_result"
    }
   ],
   "source": [
    "df['Campaign Name'].value_counts()"
   ]
  },
  {
   "cell_type": "markdown",
   "id": "06cec501",
   "metadata": {},
   "source": [
    "### Analysis of Media Type column"
   ]
  },
  {
   "cell_type": "code",
   "execution_count": 27,
   "id": "46d4cb03",
   "metadata": {},
   "outputs": [
    {
     "data": {
      "text/plain": [
       "Photo       1029\n",
       "Text         862\n",
       "Video        745\n",
       "Link          94\n",
       "Carousel       4\n",
       "Album          4\n",
       "Mixed          1\n",
       "Name: Media Type, dtype: int64"
      ]
     },
     "execution_count": 27,
     "metadata": {},
     "output_type": "execute_result"
    }
   ],
   "source": [
    "df['Media Type'].value_counts()"
   ]
  },
  {
   "cell_type": "markdown",
   "id": "31d7508c",
   "metadata": {},
   "source": [
    "### Tasks"
   ]
  },
  {
   "cell_type": "markdown",
   "id": "0d57f162",
   "metadata": {},
   "source": [
    "### What is the typical engagement rate we can expect? What’s the likelihood that we can achieve a 15% engagement rate?"
   ]
  },
  {
   "cell_type": "code",
   "execution_count": 28,
   "id": "0d38aa74",
   "metadata": {},
   "outputs": [
    {
     "name": "stdout",
     "output_type": "stream",
     "text": [
      "Average Engagement Rate: 3.61%\n",
      "Industry Average Engagement Rate: 10.00%\n",
      "Target Engagement Rate: 15.00%\n",
      "Likelihood of Achieving Target Engagement Rate: 0.69%\n"
     ]
    }
   ],
   "source": [
    "# Calculate Average Engagement Rate\n",
    "average_engagement_rate = (df['Total Engagements'] / df['Total Impressions']).mean()\n",
    "\n",
    "# Analyze Industry Benchmarks\n",
    "industry_average_engagement_rate = 0.10  # Assuming an industry benchmark of 10%\n",
    "\n",
    "# Assess Campaign Factors\n",
    "target_engagement_rate = 0.15  # Target engagement rate of 15%\n",
    "\n",
    "# Conduct Statistical Analysis\n",
    "likelihood = (df[df['Total Engagements'] / df['Total Impressions'] >= target_engagement_rate].shape[0]) / df.shape[0]\n",
    "\n",
    "# Print the results\n",
    "print(\"Average Engagement Rate: {:.2%}\".format(average_engagement_rate))\n",
    "print(\"Industry Average Engagement Rate: {:.2%}\".format(industry_average_engagement_rate))\n",
    "print(\"Target Engagement Rate: {:.2%}\".format(target_engagement_rate))\n",
    "print(\"Likelihood of Achieving Target Engagement Rate: {:.2%}\".format(likelihood))"
   ]
  },
  {
   "cell_type": "markdown",
   "id": "8b068d78",
   "metadata": {},
   "source": [
    "- The calculated likelihood of achieving the target engagement rate is 0.69%. This percentage indicates the probability of reaching the desired engagement rate based on the available data. \n",
    "- It suggests that achieving a 15.00% engagement rate may be challenging and requires careful planning, exceptional content, and effective audience engagement strategies."
   ]
  },
  {
   "cell_type": "markdown",
   "id": "6b238fa6",
   "metadata": {},
   "source": [
    "### Does day of the week and time of posting affect engagement rates?"
   ]
  },
  {
   "cell_type": "code",
   "execution_count": 29,
   "id": "cf5a6cdc",
   "metadata": {},
   "outputs": [
    {
     "name": "stdout",
     "output_type": "stream",
     "text": [
      "Engagement by Day of the Week:\n",
      "DayOfWeek\n",
      "0    59.931034\n",
      "1    58.680751\n",
      "2    50.029598\n",
      "3    61.166045\n",
      "4    67.125230\n",
      "5    56.120755\n",
      "6    61.494881\n",
      "Name: Total Engagements, dtype: float64\n"
     ]
    }
   ],
   "source": [
    "# Extract the day of the week from the 'Published Date' column\n",
    "df['DayOfWeek'] = df['Published Date'].dt.dayofweek\n",
    "\n",
    "# Group the data by day of the week and calculate the average engagement rate\n",
    "engagement_by_day = df.groupby('DayOfWeek')['Total Engagements'].mean()\n",
    "\n",
    "# Print the results\n",
    "print(\"Engagement by Day of the Week:\")\n",
    "print(engagement_by_day)"
   ]
  },
  {
   "cell_type": "markdown",
   "id": "62408671",
   "metadata": {},
   "source": [
    "- The engagement rate on Friday is the highest among all the days of the week with a rate of 67.13%.\n",
    "- Engagement rates fluctuate throughout the week, with Friday, Sunday, and Thursday being the most engaging days and Wednesday having the lowest engagement rate. It's important to consider these patterns when planning your content and scheduling posts to maximize audience reach and interaction.\n",
    "- While these insights are based on the provided engagement rates, it's essential to analyze a larger dataset and consider other factors such as the industry, target audience, and specific platform to gain a more comprehensive understanding of the optimal days for engagement."
   ]
  },
  {
   "cell_type": "code",
   "execution_count": 57,
   "id": "225e11e9",
   "metadata": {},
   "outputs": [
    {
     "name": "stdout",
     "output_type": "stream",
     "text": [
      "\n",
      "Engagement by Hour of the Day:\n",
      "HourOfDay\n",
      "0       0.000000\n",
      "3     111.750000\n",
      "4      74.285714\n",
      "5      39.250000\n",
      "6      47.166667\n",
      "7      39.604651\n",
      "8      28.585586\n",
      "9      29.526718\n",
      "10     32.610526\n",
      "11     35.000000\n",
      "12     35.037190\n",
      "13     30.104418\n",
      "14     33.809339\n",
      "15     34.281385\n",
      "16     41.978723\n",
      "17     45.060606\n",
      "18     36.684211\n",
      "19     25.181818\n",
      "20     19.588235\n",
      "21     13.750000\n",
      "22     19.166667\n",
      "23      8.722222\n",
      "Name: Total Engagements, dtype: float64\n"
     ]
    }
   ],
   "source": [
    "# Extract the hour of the day from the 'Published Date' column\n",
    "df['HourOfDay'] = df['Published Date'].dt.hour\n",
    "\n",
    "# Group the data by hour of the day and calculate the average engagement rate\n",
    "engagement_by_hour = df.groupby('HourOfDay')['Total Engagements'].mean()\n",
    "\n",
    "print(\"\\nEngagement by Hour of the Day:\")\n",
    "print(engagement_by_hour)"
   ]
  },
  {
   "cell_type": "markdown",
   "id": "939f3098",
   "metadata": {},
   "source": [
    "- Engagement rates are relatively low during the early morning hours (0-6 AM), with rates ranging from 0.00% at hour 0 to 52.05% at hour 6.\n",
    "- Engagement rates start to rise during the morning hours, with the highest rate observed at hour 11.\n",
    "- Engagement rates remain relatively consistent during the afternoon hours, with rates ranging from 49.67% at hour 10 to 64.46%.\n",
    "- Engagement rates show a peak during the late afternoon and early evening hours."
   ]
  },
  {
   "cell_type": "markdown",
   "id": "5348d105",
   "metadata": {},
   "source": [
    "### How are our game titles doing in terms of social performance? Is there a specific game we should focus more on or less?"
   ]
  },
  {
   "cell_type": "code",
   "execution_count": 31,
   "id": "9c4605df",
   "metadata": {},
   "outputs": [
    {
     "name": "stdout",
     "output_type": "stream",
     "text": [
      "Social Performance by Game Title:\n",
      "                       Total Impressions  Total Engagements  Engagement Rate\n",
      "Campaign Name                                                               \n",
      "N/A                              1436883              39880         0.027755\n",
      "Evergreen                         536394               9968         0.018583\n",
      "Community Engagement             5776799              93211         0.016135\n",
      "Evil Exhibited                   1348677              19893         0.014750\n"
     ]
    }
   ],
   "source": [
    "# Group the data by game title (Campaign Name) and calculate the total impressions and total engagements\n",
    "game_performance = df.groupby('Campaign Name').agg({'Total Impressions': 'sum', 'Total Engagements': 'sum'})\n",
    "\n",
    "# Calculate the engagement rate for each game\n",
    "game_performance['Engagement Rate'] = game_performance['Total Engagements'] / game_performance['Total Impressions']\n",
    "\n",
    "# Sort the games by engagement rate in descending order\n",
    "sorted_games = game_performance.sort_values(by='Engagement Rate', ascending=False)\n",
    "\n",
    "# Print the social performance of each game\n",
    "print(\"Social Performance by Game Title:\")\n",
    "print(sorted_games)\n",
    "\n",
    "# Identify the game with the highest and lowest engagement rate\n",
    "highest_engagement_game = sorted_games.iloc[0]\n",
    "lowest_engagement_game = sorted_games.iloc[-1]"
   ]
  },
  {
   "cell_type": "code",
   "execution_count": 32,
   "id": "76f7dfd3",
   "metadata": {},
   "outputs": [
    {
     "name": "stdout",
     "output_type": "stream",
     "text": [
      "\n",
      "Game with the Highest Engagement Rate:\n",
      "Total Impressions    1.436883e+06\n",
      "Total Engagements    3.988000e+04\n",
      "Engagement Rate      2.775452e-02\n",
      "Name: N/A , dtype: float64\n"
     ]
    }
   ],
   "source": [
    "print(\"\\nGame with the Highest Engagement Rate:\")\n",
    "print(highest_engagement_game)"
   ]
  },
  {
   "cell_type": "code",
   "execution_count": 33,
   "id": "6c9ac380",
   "metadata": {},
   "outputs": [
    {
     "name": "stdout",
     "output_type": "stream",
     "text": [
      "\n",
      "Game with the Lowest Engagement Rate:\n",
      "Total Impressions    1.348677e+06\n",
      "Total Engagements    1.989300e+04\n",
      "Engagement Rate      1.475001e-02\n",
      "Name: Evil Exhibited , dtype: float64\n"
     ]
    }
   ],
   "source": [
    "print(\"\\nGame with the Lowest Engagement Rate:\")\n",
    "print(lowest_engagement_game)"
   ]
  },
  {
   "cell_type": "markdown",
   "id": "8232a22d",
   "metadata": {},
   "source": [
    "### What media type performs the best?"
   ]
  },
  {
   "cell_type": "code",
   "execution_count": 34,
   "id": "2e0c2a0c",
   "metadata": {},
   "outputs": [
    {
     "name": "stdout",
     "output_type": "stream",
     "text": [
      "Social Performance by Media Type:\n",
      "            Total Impressions  Total Engagements  Engagement Rate\n",
      "Media Type                                                       \n",
      "Album                      20                  8         0.400000\n",
      "Mixed                    2028                373         0.183925\n",
      "Carousel                44758               1118         0.024979\n",
      "Video                 2424553              53329         0.021995\n",
      "Text                  1180476              24055         0.020377\n",
      "Photo                 5214453              81812         0.015689\n",
      "Link                   232465               2257         0.009709\n"
     ]
    }
   ],
   "source": [
    "# Group the data by media type and calculate the total impressions and total engagements\n",
    "media_performance = df.groupby('Media Type').agg({'Total Impressions': 'sum', 'Total Engagements': 'sum'})\n",
    "\n",
    "# Calculate the engagement rate for each media type\n",
    "media_performance['Engagement Rate'] = media_performance['Total Engagements'] / media_performance['Total Impressions']\n",
    "\n",
    "# Sort the media types by engagement rate in descending order\n",
    "sorted_media = media_performance.sort_values(by='Engagement Rate', ascending=False)\n",
    "\n",
    "# Print the social performance of each media type\n",
    "print(\"Social Performance by Media Type:\")\n",
    "print(sorted_media)"
   ]
  },
  {
   "cell_type": "markdown",
   "id": "67627819",
   "metadata": {},
   "source": [
    "- Based on the analysis, the media type that performs the best in terms of engagement rate is \"Album\" with an engagement rate of 0.4 (40%). However, it is important to note that the sample size for this media type is relatively small (20 impressions and 8 engagements). Therefore, the results for \"Album\" may not be as statistically significant as the other media types.\n",
    "\n",
    "- Among the media types with larger sample sizes, \"Mixed\" media type has the highest engagement rate of 0.183925 (18.39%). It is followed by \"Carousel\" with an engagement rate of 0.024979 (2.50%), \"Video\" with an engagement rate of 0.021995 (2.20%), \"Text\" with an engagement rate of 0.020377 (2.04%), \"Photo\" with an engagement rate of 0.015689 (1.57%), and \"Link\" with the lowest engagement rate of 0.009709 (0.97%).\n",
    "\n",
    "- \"Mixed\" media type has the highest engagement rate among the media types with a relatively larger sample size, indicating that it performs the best in terms of engagement. However, further analysis and comparison across different campaigns and audiences may be necessary to make more conclusive judgments about media performance."
   ]
  },
  {
   "cell_type": "markdown",
   "id": "0a692a2e",
   "metadata": {},
   "source": [
    "### What is our best performing campaign?"
   ]
  },
  {
   "cell_type": "code",
   "execution_count": 35,
   "id": "1a7f64bd",
   "metadata": {},
   "outputs": [
    {
     "name": "stdout",
     "output_type": "stream",
     "text": [
      "Best Performing Campaign:\n",
      "Total Impressions    1.436883e+06\n",
      "Total Engagements    3.988000e+04\n",
      "Engagement Rate      2.775452e-02\n",
      "Name: N/A , dtype: float64\n"
     ]
    }
   ],
   "source": [
    "# Group the data by campaign name and calculate the total impressions and total engagements\n",
    "campaign_performance = df.groupby('Campaign Name').agg({'Total Impressions': 'sum', 'Total Engagements': 'sum'})\n",
    "\n",
    "# Calculate the engagement rate for each campaign\n",
    "campaign_performance['Engagement Rate'] = campaign_performance['Total Engagements'] / campaign_performance['Total Impressions']\n",
    "\n",
    "# Sort the campaigns by engagement rate in descending order\n",
    "sorted_campaigns = campaign_performance.sort_values(by='Engagement Rate', ascending=False)\n",
    "\n",
    "# Get the best performing campaign (the one with the highest engagement rate)\n",
    "best_campaign = sorted_campaigns.iloc[0]\n",
    "\n",
    "# Print the best performing campaign\n",
    "print(\"Best Performing Campaign:\")\n",
    "print(best_campaign)"
   ]
  },
  {
   "cell_type": "code",
   "execution_count": 36,
   "id": "1053bfad",
   "metadata": {},
   "outputs": [
    {
     "data": {
      "text/html": [
       "<div>\n",
       "<style scoped>\n",
       "    .dataframe tbody tr th:only-of-type {\n",
       "        vertical-align: middle;\n",
       "    }\n",
       "\n",
       "    .dataframe tbody tr th {\n",
       "        vertical-align: top;\n",
       "    }\n",
       "\n",
       "    .dataframe thead th {\n",
       "        text-align: right;\n",
       "    }\n",
       "</style>\n",
       "<table border=\"1\" class=\"dataframe\">\n",
       "  <thead>\n",
       "    <tr style=\"text-align: right;\">\n",
       "      <th></th>\n",
       "      <th>Total Impressions</th>\n",
       "      <th>Total Engagements</th>\n",
       "      <th>Engagement Rate</th>\n",
       "    </tr>\n",
       "    <tr>\n",
       "      <th>Campaign Name</th>\n",
       "      <th></th>\n",
       "      <th></th>\n",
       "      <th></th>\n",
       "    </tr>\n",
       "  </thead>\n",
       "  <tbody>\n",
       "    <tr>\n",
       "      <th>Community Engagement</th>\n",
       "      <td>5776799</td>\n",
       "      <td>93211</td>\n",
       "      <td>0.016135</td>\n",
       "    </tr>\n",
       "    <tr>\n",
       "      <th>Evergreen</th>\n",
       "      <td>536394</td>\n",
       "      <td>9968</td>\n",
       "      <td>0.018583</td>\n",
       "    </tr>\n",
       "    <tr>\n",
       "      <th>Evil Exhibited</th>\n",
       "      <td>1348677</td>\n",
       "      <td>19893</td>\n",
       "      <td>0.014750</td>\n",
       "    </tr>\n",
       "    <tr>\n",
       "      <th>N/A</th>\n",
       "      <td>1436883</td>\n",
       "      <td>39880</td>\n",
       "      <td>0.027755</td>\n",
       "    </tr>\n",
       "  </tbody>\n",
       "</table>\n",
       "</div>"
      ],
      "text/plain": [
       "                       Total Impressions  Total Engagements  Engagement Rate\n",
       "Campaign Name                                                               \n",
       "Community Engagement             5776799              93211         0.016135\n",
       "Evergreen                         536394               9968         0.018583\n",
       "Evil Exhibited                   1348677              19893         0.014750\n",
       "N/A                              1436883              39880         0.027755"
      ]
     },
     "execution_count": 36,
     "metadata": {},
     "output_type": "execute_result"
    }
   ],
   "source": [
    "campaign_performance"
   ]
  },
  {
   "cell_type": "markdown",
   "id": "fc954a01",
   "metadata": {},
   "source": [
    "- \"N/A\" campaign name might indicate that these are rows without a specific campaign name assigned to them.\n",
    "-  The engagement rates for the campaigns range from 1.48% to 2.78%. This suggests that the campaigns in general have achieved moderate engagement levels, with the \"N/A\" campaign performing the best.\n",
    "\n"
   ]
  },
  {
   "cell_type": "markdown",
   "id": "b9eeedc2",
   "metadata": {},
   "source": [
    "### Define out a posting strategy for our social channels based on your discoveries."
   ]
  },
  {
   "cell_type": "code",
   "execution_count": 44,
   "id": "03f55b82",
   "metadata": {},
   "outputs": [
    {
     "name": "stdout",
     "output_type": "stream",
     "text": [
      "Scheduled Posting Date: 2023-06-02\n",
      "Scheduled Posting Time: 06:00:00\n"
     ]
    }
   ],
   "source": [
    "import random\n",
    "from datetime import datetime, timedelta\n",
    "\n",
    "# Extract the day of the week and hour of the day from the 'Published Date' column\n",
    "df['DayOfWeek'] = df['Published Date'].dt.dayofweek\n",
    "df['HourOfDay'] = df['Published Date'].dt.hour\n",
    "\n",
    "df['Engagement Rate'] = df['Total Engagements'] / df['Total Impressions']\n",
    "\n",
    "# Group the data by day of the week and hour of the day and calculate the average engagement rate\n",
    "engagement_by_time = df.groupby(['DayOfWeek', 'HourOfDay'])['Engagement Rate'].mean()\n",
    "\n",
    "# Get the optimal day and time for posting based on the highest engagement rate\n",
    "optimal_day, optimal_hour = engagement_by_time.idxmax()\n",
    "\n",
    "# Convert the optimal_hour to a regular integer\n",
    "optimal_hour = int(optimal_hour)\n",
    "\n",
    "# Generate a list of dates for the upcoming week\n",
    "today = datetime.now().date()\n",
    "dates = [today + timedelta(days=i) for i in range(7)]\n",
    "\n",
    "# Randomly select one date from the list for posting\n",
    "posting_date = random.choice(dates)\n",
    "\n",
    "# Set the posting time based on the optimal day and hour\n",
    "posting_time = datetime.combine(posting_date, datetime.min.time()) + timedelta(hours=optimal_hour)\n",
    "\n",
    "# Print the scheduled posting date and time\n",
    "print(\"Scheduled Posting Date:\", posting_date)\n",
    "print(\"Scheduled Posting Time:\", posting_time.time())"
   ]
  },
  {
   "cell_type": "markdown",
   "id": "c4866c0f",
   "metadata": {},
   "source": [
    "- Based on my findings, the optimal date for posting is June 2, 2023, and the recommended time is 06:00:00. These findings are based on the insights I gathered for the upcoming week."
   ]
  },
  {
   "cell_type": "code",
   "execution_count": 69,
   "id": "0fc11ecf",
   "metadata": {},
   "outputs": [
    {
     "data": {
      "text/html": [
       "<div>\n",
       "<style scoped>\n",
       "    .dataframe tbody tr th:only-of-type {\n",
       "        vertical-align: middle;\n",
       "    }\n",
       "\n",
       "    .dataframe tbody tr th {\n",
       "        vertical-align: top;\n",
       "    }\n",
       "\n",
       "    .dataframe thead th {\n",
       "        text-align: right;\n",
       "    }\n",
       "</style>\n",
       "<table border=\"1\" class=\"dataframe\">\n",
       "  <thead>\n",
       "    <tr style=\"text-align: right;\">\n",
       "      <th></th>\n",
       "      <th>Published Date</th>\n",
       "      <th>Account</th>\n",
       "      <th>Account Type</th>\n",
       "      <th>Campaign Name</th>\n",
       "      <th>Total Impressions</th>\n",
       "      <th>Total Engagements</th>\n",
       "      <th>Media Type</th>\n",
       "      <th>Date</th>\n",
       "      <th>DayOfWeek</th>\n",
       "      <th>HourOfDay</th>\n",
       "      <th>Engagement Rate</th>\n",
       "    </tr>\n",
       "  </thead>\n",
       "  <tbody>\n",
       "    <tr>\n",
       "      <th>0</th>\n",
       "      <td>2023-03-31 19:55:43.192</td>\n",
       "      <td>CSGO</td>\n",
       "      <td>TWITTER</td>\n",
       "      <td>N/A</td>\n",
       "      <td>0</td>\n",
       "      <td>0</td>\n",
       "      <td>Text</td>\n",
       "      <td>2023-03-31</td>\n",
       "      <td>4</td>\n",
       "      <td>19</td>\n",
       "      <td>NaN</td>\n",
       "    </tr>\n",
       "    <tr>\n",
       "      <th>1</th>\n",
       "      <td>2023-03-31 19:49:35.243</td>\n",
       "      <td>CSGO</td>\n",
       "      <td>TWITTER</td>\n",
       "      <td>N/A</td>\n",
       "      <td>0</td>\n",
       "      <td>0</td>\n",
       "      <td>Text</td>\n",
       "      <td>2023-03-31</td>\n",
       "      <td>4</td>\n",
       "      <td>19</td>\n",
       "      <td>NaN</td>\n",
       "    </tr>\n",
       "    <tr>\n",
       "      <th>2</th>\n",
       "      <td>2023-03-31 19:49:33.535</td>\n",
       "      <td>CSGO</td>\n",
       "      <td>TWITTER</td>\n",
       "      <td>N/A</td>\n",
       "      <td>0</td>\n",
       "      <td>0</td>\n",
       "      <td>Text</td>\n",
       "      <td>2023-03-31</td>\n",
       "      <td>4</td>\n",
       "      <td>19</td>\n",
       "      <td>NaN</td>\n",
       "    </tr>\n",
       "    <tr>\n",
       "      <th>3</th>\n",
       "      <td>2023-03-31 19:49:31.583</td>\n",
       "      <td>CSGO</td>\n",
       "      <td>TWITTER</td>\n",
       "      <td>N/A</td>\n",
       "      <td>0</td>\n",
       "      <td>0</td>\n",
       "      <td>Text</td>\n",
       "      <td>2023-03-31</td>\n",
       "      <td>4</td>\n",
       "      <td>19</td>\n",
       "      <td>NaN</td>\n",
       "    </tr>\n",
       "    <tr>\n",
       "      <th>5</th>\n",
       "      <td>2023-03-31 19:42:11.331</td>\n",
       "      <td>CSGO</td>\n",
       "      <td>TWITTER</td>\n",
       "      <td>N/A</td>\n",
       "      <td>0</td>\n",
       "      <td>0</td>\n",
       "      <td>Photo</td>\n",
       "      <td>2023-03-31</td>\n",
       "      <td>4</td>\n",
       "      <td>19</td>\n",
       "      <td>NaN</td>\n",
       "    </tr>\n",
       "  </tbody>\n",
       "</table>\n",
       "</div>"
      ],
      "text/plain": [
       "           Published Date Account Account Type Campaign Name  \\\n",
       "0 2023-03-31 19:55:43.192    CSGO      TWITTER          N/A    \n",
       "1 2023-03-31 19:49:35.243    CSGO      TWITTER          N/A    \n",
       "2 2023-03-31 19:49:33.535    CSGO      TWITTER          N/A    \n",
       "3 2023-03-31 19:49:31.583    CSGO      TWITTER          N/A    \n",
       "5 2023-03-31 19:42:11.331    CSGO      TWITTER          N/A    \n",
       "\n",
       "   Total Impressions  Total Engagements Media Type        Date  DayOfWeek  \\\n",
       "0                  0                  0       Text  2023-03-31          4   \n",
       "1                  0                  0       Text  2023-03-31          4   \n",
       "2                  0                  0       Text  2023-03-31          4   \n",
       "3                  0                  0       Text  2023-03-31          4   \n",
       "5                  0                  0      Photo  2023-03-31          4   \n",
       "\n",
       "   HourOfDay  Engagement Rate  \n",
       "0         19              NaN  \n",
       "1         19              NaN  \n",
       "2         19              NaN  \n",
       "3         19              NaN  \n",
       "5         19              NaN  "
      ]
     },
     "execution_count": 69,
     "metadata": {},
     "output_type": "execute_result"
    }
   ],
   "source": [
    "df.head()"
   ]
  },
  {
   "cell_type": "markdown",
   "id": "ad4b8675",
   "metadata": {},
   "source": [
    "### What suggestions would you give to the social media team if they want to expand their presence (e.g. if our CSGO youtube channel is doing well should we expand to TikTok)?"
   ]
  },
  {
   "cell_type": "code",
   "execution_count": 71,
   "id": "a3a38ebd",
   "metadata": {},
   "outputs": [
    {
     "name": "stdout",
     "output_type": "stream",
     "text": [
      "Consider expanding to TikTok as CSGO YouTube channel is performing well.\n",
      "\n",
      "Platform Engagement Statistics:\n",
      "Account Type\n",
      "TWITTER             63169\n",
      "INSTAGRAM            8583\n",
      "TIKTOK_BUSINESS      5270\n",
      "YOUTUBE              4891\n",
      "FBPAGE               2605\n",
      "LINKEDIN_COMPANY      849\n",
      "Name: Total Engagements, dtype: int64\n"
     ]
    }
   ],
   "source": [
    "# Calculate the total engagements for each social media platform\n",
    "platform_engagements = df.groupby('Account Type')['Total Engagements'].sum()\n",
    "\n",
    "# Sort the platforms by total engagements in descending order\n",
    "sorted_platforms = platform_engagements.sort_values(ascending=False)\n",
    "\n",
    "# Get the best performing platform\n",
    "best_platform = sorted_platforms.index[0]\n",
    "\n",
    "# Check if the best performing platform is different from TikTok\n",
    "if best_platform != 'TIKTOK_BUSINESS':\n",
    "    print(\"Consider expanding to TikTok as CSGO YouTube channel is performing well.\")\n",
    "else:\n",
    "    print(\"Focus on optimizing and leveraging the existing presence on TikTok.\")\n",
    "\n",
    "# Print the platform engagement statistics for reference\n",
    "print(\"\\nPlatform Engagement Statistics:\")\n",
    "print(sorted_platforms)"
   ]
  },
  {
   "cell_type": "markdown",
   "id": "d4664582",
   "metadata": {},
   "source": [
    "- If CSGO YouTube channel is performing well, expanding your presence to TikTok can be a good strategy. TikTok has a large and engaged user base, particularly among younger audiences, which can help you reach a wider audience and increase brand visibility. "
   ]
  }
 ],
 "metadata": {
  "kernelspec": {
   "display_name": "Python 3 (ipykernel)",
   "language": "python",
   "name": "python3"
  },
  "language_info": {
   "codemirror_mode": {
    "name": "ipython",
    "version": 3
   },
   "file_extension": ".py",
   "mimetype": "text/x-python",
   "name": "python",
   "nbconvert_exporter": "python",
   "pygments_lexer": "ipython3",
   "version": "3.9.7"
  }
 },
 "nbformat": 4,
 "nbformat_minor": 5
}
